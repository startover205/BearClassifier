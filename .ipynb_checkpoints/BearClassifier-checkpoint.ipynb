{
 "cells": [
  {
   "cell_type": "code",
   "execution_count": 1,
   "metadata": {
    "colab": {},
    "colab_type": "code",
    "id": "FLb7Z0nfyBHP",
    "scrolled": true
   },
   "outputs": [
    {
     "name": "stdout",
     "output_type": "stream",
     "text": [
      "Collecting package metadata (current_repodata.json): done\n",
      "Solving environment: failed with initial frozen solve. Retrying with flexible solve.\n",
      "Collecting package metadata (repodata.json): done\n",
      "Solving environment: failed with initial frozen solve. Retrying with flexible solve.\n",
      "\n",
      "PackagesNotFoundError: The following packages are not available from current channels:\n",
      "\n",
      "  - fastbook\n",
      "\n",
      "Current channels:\n",
      "\n",
      "  - https://repo.anaconda.com/pkgs/main/osx-64\n",
      "  - https://repo.anaconda.com/pkgs/main/noarch\n",
      "  - https://repo.anaconda.com/pkgs/r/osx-64\n",
      "  - https://repo.anaconda.com/pkgs/r/noarch\n",
      "\n",
      "To search for alternate channels that may provide the conda package you're\n",
      "looking for, navigate to\n",
      "\n",
      "    https://anaconda.org\n",
      "\n",
      "and use the search bar at the top of the page.\n",
      "\n",
      "\n"
     ]
    },
    {
     "name": "stderr",
     "output_type": "stream",
     "text": [
      "/opt/anaconda3/lib/python3.7/site-packages/fastbook/__init__.py:21: UserWarning: Missing `graphviz` - please run `conda install fastbook`\n",
      "  except ModuleNotFoundError: warn(\"Missing `graphviz` - please run `conda install fastbook`\")\n"
     ]
    }
   ],
   "source": [
    "#hide\n",
    "# !pip install -Uqq fastbook\n",
    "!conda install fastbook\n",
    "import fastbook\n",
    "fastbook.setup_book()"
   ]
  },
  {
   "cell_type": "code",
   "execution_count": 2,
   "metadata": {},
   "outputs": [
    {
     "name": "stdout",
     "output_type": "stream",
     "text": [
      "Requirement already satisfied: voila in /opt/anaconda3/lib/python3.7/site-packages (0.1.22)\n",
      "Requirement already satisfied: nbconvert<6,>=5.5.0 in /opt/anaconda3/lib/python3.7/site-packages (from voila) (5.6.1)\n",
      "Requirement already satisfied: pygments<3,>=2.4.1 in /opt/anaconda3/lib/python3.7/site-packages (from voila) (2.5.2)\n",
      "Requirement already satisfied: async-generator in /opt/anaconda3/lib/python3.7/site-packages (from voila) (1.10)\n",
      "Requirement already satisfied: jupyter-server<0.2.0,>=0.1.0 in /opt/anaconda3/lib/python3.7/site-packages (from voila) (0.1.1)\n",
      "Requirement already satisfied: jupyterlab-pygments<0.2,>=0.1.0 in /opt/anaconda3/lib/python3.7/site-packages (from voila) (0.1.1)\n",
      "Requirement already satisfied: nbformat>=4.4 in /opt/anaconda3/lib/python3.7/site-packages (from nbconvert<6,>=5.5.0->voila) (5.0.4)\n",
      "Requirement already satisfied: entrypoints>=0.2.2 in /opt/anaconda3/lib/python3.7/site-packages (from nbconvert<6,>=5.5.0->voila) (0.3)\n",
      "Requirement already satisfied: jupyter-core in /opt/anaconda3/lib/python3.7/site-packages (from nbconvert<6,>=5.5.0->voila) (4.6.1)\n",
      "Requirement already satisfied: mistune<2,>=0.8.1 in /opt/anaconda3/lib/python3.7/site-packages (from nbconvert<6,>=5.5.0->voila) (0.8.4)\n",
      "Requirement already satisfied: jinja2>=2.4 in /opt/anaconda3/lib/python3.7/site-packages (from nbconvert<6,>=5.5.0->voila) (2.11.1)\n",
      "Requirement already satisfied: defusedxml in /opt/anaconda3/lib/python3.7/site-packages (from nbconvert<6,>=5.5.0->voila) (0.6.0)\n",
      "Requirement already satisfied: testpath in /opt/anaconda3/lib/python3.7/site-packages (from nbconvert<6,>=5.5.0->voila) (0.4.4)\n",
      "Requirement already satisfied: bleach in /opt/anaconda3/lib/python3.7/site-packages (from nbconvert<6,>=5.5.0->voila) (3.1.0)\n",
      "Requirement already satisfied: traitlets>=4.2 in /opt/anaconda3/lib/python3.7/site-packages (from nbconvert<6,>=5.5.0->voila) (4.3.3)\n",
      "Requirement already satisfied: pandocfilters>=1.4.1 in /opt/anaconda3/lib/python3.7/site-packages (from nbconvert<6,>=5.5.0->voila) (1.4.2)\n",
      "Requirement already satisfied: prometheus-client in /opt/anaconda3/lib/python3.7/site-packages (from jupyter-server<0.2.0,>=0.1.0->voila) (0.7.1)\n",
      "Requirement already satisfied: pyzmq>=17 in /opt/anaconda3/lib/python3.7/site-packages (from jupyter-server<0.2.0,>=0.1.0->voila) (18.1.1)\n",
      "Requirement already satisfied: ipykernel in /opt/anaconda3/lib/python3.7/site-packages (from jupyter-server<0.2.0,>=0.1.0->voila) (5.1.4)\n",
      "Requirement already satisfied: terminado>=0.8.1 in /opt/anaconda3/lib/python3.7/site-packages (from jupyter-server<0.2.0,>=0.1.0->voila) (0.8.3)\n",
      "Requirement already satisfied: tornado>=4 in /opt/anaconda3/lib/python3.7/site-packages (from jupyter-server<0.2.0,>=0.1.0->voila) (6.0.3)\n",
      "Requirement already satisfied: jupyter-client>=5.3.1 in /opt/anaconda3/lib/python3.7/site-packages (from jupyter-server<0.2.0,>=0.1.0->voila) (5.3.4)\n",
      "Requirement already satisfied: ipython-genutils in /opt/anaconda3/lib/python3.7/site-packages (from jupyter-server<0.2.0,>=0.1.0->voila) (0.2.0)\n",
      "Requirement already satisfied: Send2Trash in /opt/anaconda3/lib/python3.7/site-packages (from jupyter-server<0.2.0,>=0.1.0->voila) (1.5.0)\n",
      "Requirement already satisfied: jsonschema!=2.5.0,>=2.4 in /opt/anaconda3/lib/python3.7/site-packages (from nbformat>=4.4->nbconvert<6,>=5.5.0->voila) (3.2.0)\n",
      "Requirement already satisfied: MarkupSafe>=0.23 in /opt/anaconda3/lib/python3.7/site-packages (from jinja2>=2.4->nbconvert<6,>=5.5.0->voila) (1.1.1)\n",
      "Requirement already satisfied: six>=1.9.0 in /opt/anaconda3/lib/python3.7/site-packages (from bleach->nbconvert<6,>=5.5.0->voila) (1.14.0)\n",
      "Requirement already satisfied: webencodings in /opt/anaconda3/lib/python3.7/site-packages (from bleach->nbconvert<6,>=5.5.0->voila) (0.5.1)\n",
      "Requirement already satisfied: decorator in /opt/anaconda3/lib/python3.7/site-packages (from traitlets>=4.2->nbconvert<6,>=5.5.0->voila) (4.4.1)\n",
      "Requirement already satisfied: appnope; platform_system == \"Darwin\" in /opt/anaconda3/lib/python3.7/site-packages (from ipykernel->jupyter-server<0.2.0,>=0.1.0->voila) (0.1.0)\n",
      "Requirement already satisfied: ipython>=5.0.0 in /opt/anaconda3/lib/python3.7/site-packages (from ipykernel->jupyter-server<0.2.0,>=0.1.0->voila) (7.12.0)\n",
      "Requirement already satisfied: python-dateutil>=2.1 in /opt/anaconda3/lib/python3.7/site-packages (from jupyter-client>=5.3.1->jupyter-server<0.2.0,>=0.1.0->voila) (2.8.1)\n",
      "Requirement already satisfied: attrs>=17.4.0 in /opt/anaconda3/lib/python3.7/site-packages (from jsonschema!=2.5.0,>=2.4->nbformat>=4.4->nbconvert<6,>=5.5.0->voila) (19.3.0)\n",
      "Requirement already satisfied: setuptools in /opt/anaconda3/lib/python3.7/site-packages (from jsonschema!=2.5.0,>=2.4->nbformat>=4.4->nbconvert<6,>=5.5.0->voila) (46.0.0.post20200309)\n",
      "Requirement already satisfied: importlib-metadata; python_version < \"3.8\" in /opt/anaconda3/lib/python3.7/site-packages (from jsonschema!=2.5.0,>=2.4->nbformat>=4.4->nbconvert<6,>=5.5.0->voila) (1.5.0)\n",
      "Requirement already satisfied: pyrsistent>=0.14.0 in /opt/anaconda3/lib/python3.7/site-packages (from jsonschema!=2.5.0,>=2.4->nbformat>=4.4->nbconvert<6,>=5.5.0->voila) (0.15.7)\n",
      "Requirement already satisfied: prompt-toolkit!=3.0.0,!=3.0.1,<3.1.0,>=2.0.0 in /opt/anaconda3/lib/python3.7/site-packages (from ipython>=5.0.0->ipykernel->jupyter-server<0.2.0,>=0.1.0->voila) (3.0.3)\n",
      "Requirement already satisfied: jedi>=0.10 in /opt/anaconda3/lib/python3.7/site-packages (from ipython>=5.0.0->ipykernel->jupyter-server<0.2.0,>=0.1.0->voila) (0.14.1)\n",
      "Requirement already satisfied: backcall in /opt/anaconda3/lib/python3.7/site-packages (from ipython>=5.0.0->ipykernel->jupyter-server<0.2.0,>=0.1.0->voila) (0.1.0)\n",
      "Requirement already satisfied: pickleshare in /opt/anaconda3/lib/python3.7/site-packages (from ipython>=5.0.0->ipykernel->jupyter-server<0.2.0,>=0.1.0->voila) (0.7.5)\n",
      "Requirement already satisfied: pexpect; sys_platform != \"win32\" in /opt/anaconda3/lib/python3.7/site-packages (from ipython>=5.0.0->ipykernel->jupyter-server<0.2.0,>=0.1.0->voila) (4.8.0)\n",
      "Requirement already satisfied: zipp>=0.5 in /opt/anaconda3/lib/python3.7/site-packages (from importlib-metadata; python_version < \"3.8\"->jsonschema!=2.5.0,>=2.4->nbformat>=4.4->nbconvert<6,>=5.5.0->voila) (2.2.0)\n",
      "Requirement already satisfied: wcwidth in /opt/anaconda3/lib/python3.7/site-packages (from prompt-toolkit!=3.0.0,!=3.0.1,<3.1.0,>=2.0.0->ipython>=5.0.0->ipykernel->jupyter-server<0.2.0,>=0.1.0->voila) (0.1.8)\n",
      "Requirement already satisfied: parso>=0.5.0 in /opt/anaconda3/lib/python3.7/site-packages (from jedi>=0.10->ipython>=5.0.0->ipykernel->jupyter-server<0.2.0,>=0.1.0->voila) (0.5.2)\n",
      "Requirement already satisfied: ptyprocess>=0.5 in /opt/anaconda3/lib/python3.7/site-packages (from pexpect; sys_platform != \"win32\"->ipython>=5.0.0->ipykernel->jupyter-server<0.2.0,>=0.1.0->voila) (0.6.0)\n",
      "Enabling: voila\n",
      "- Writing config: /Users/addwii/.jupyter\n",
      "    - Validating...\n",
      "      voila 0.1.22 \u001b[32mOK\u001b[0m\n",
      "Enabling: —sys-prefix\n",
      "- Writing config: /Users/addwii/.jupyter\n",
      "    - Validating...\n",
      "Error loading server extension —sys-prefix\n",
      "     \u001b[31m X\u001b[0m is —sys-prefix importable?\n"
     ]
    }
   ],
   "source": [
    "!pip install voila\n",
    "!jupyter serverextension enable voila —sys-prefix"
   ]
  },
  {
   "cell_type": "code",
   "execution_count": 3,
   "metadata": {
    "colab": {},
    "colab_type": "code",
    "id": "FM00egzryFKN"
   },
   "outputs": [],
   "source": [
    "from fastbook import *\n",
    "from fastai.vision.widgets import *"
   ]
  },
  {
   "cell_type": "code",
   "execution_count": 4,
   "metadata": {
    "colab": {},
    "colab_type": "code",
    "id": "y7klD92TyS64"
   },
   "outputs": [],
   "source": [
    "learn_inf = load_learner('BearClassifier.pkl')"
   ]
  },
  {
   "cell_type": "code",
   "execution_count": 5,
   "metadata": {
    "colab": {},
    "colab_type": "code",
    "id": "L8a5Yck5y6KE"
   },
   "outputs": [],
   "source": [
    "btn_upload = widgets.FileUpload()"
   ]
  },
  {
   "cell_type": "code",
   "execution_count": 6,
   "metadata": {
    "colab": {
     "base_uri": "https://localhost:8080/",
     "height": 89,
     "referenced_widgets": [
      "e2940dd90f9a4ff2ac82011607194761",
      "49bb3f2cc2c4417baa195112d7cbb5a3"
     ]
    },
    "colab_type": "code",
    "id": "RoyF8Bk9zlrJ",
    "outputId": "596e304f-17ec-4173-8efc-1c0034d221c7"
   },
   "outputs": [
    {
     "data": {
      "application/vnd.jupyter.widget-view+json": {
       "model_id": "49c0570aaa4046b6a7038a3fcd7f4e06",
       "version_major": 2,
       "version_minor": 0
      },
      "text/plain": [
       "Output()"
      ]
     },
     "metadata": {},
     "output_type": "display_data"
    }
   ],
   "source": [
    "out_pl = widgets.Output()\n",
    "out_pl.clear_output()\n",
    "out_pl"
   ]
  },
  {
   "cell_type": "code",
   "execution_count": 7,
   "metadata": {
    "colab": {
     "base_uri": "https://localhost:8080/",
     "height": 49,
     "referenced_widgets": [
      "e373353b24ce463ea8781f779ecd3856",
      "874836e50d6143b5a45a494c3faa92f1",
      "5e4bb1713b69463b9ca56c6918c4355e"
     ]
    },
    "colab_type": "code",
    "id": "JXuTzdHtzmuc",
    "outputId": "e988b2ff-46a6-4995-a304-2dea8dff6928"
   },
   "outputs": [
    {
     "data": {
      "application/vnd.jupyter.widget-view+json": {
       "model_id": "32a00af88a924af4bc4a8c38e6633356",
       "version_major": 2,
       "version_minor": 0
      },
      "text/plain": [
       "Label(value='')"
      ]
     },
     "metadata": {},
     "output_type": "display_data"
    }
   ],
   "source": [
    "lbl_pred = widgets.Label()\n",
    "# lbl_pred.value = f'Prediction: {pred}; Probability: {probs[pred_idx]:.04f}'\n",
    "lbl_pred"
   ]
  },
  {
   "cell_type": "code",
   "execution_count": 8,
   "metadata": {
    "colab": {
     "base_uri": "https://localhost:8080/",
     "height": 49,
     "referenced_widgets": [
      "c7af3ca359f24a2c9c248609448e6498",
      "e66f1b72d1274f719006e2246acd3c06",
      "3dc5095a502c48d789e24fab9c6b741f"
     ]
    },
    "colab_type": "code",
    "id": "N70jGLmXzmxo",
    "outputId": "c7d53231-dbdd-45fa-f72e-09f2bf385a9c"
   },
   "outputs": [
    {
     "data": {
      "application/vnd.jupyter.widget-view+json": {
       "model_id": "89ce83022f554bc4a9268cf79f85a1bc",
       "version_major": 2,
       "version_minor": 0
      },
      "text/plain": [
       "Button(description='Classify', style=ButtonStyle())"
      ]
     },
     "metadata": {},
     "output_type": "display_data"
    }
   ],
   "source": [
    "btn_run = widgets.Button(description='Classify')\n",
    "btn_run"
   ]
  },
  {
   "cell_type": "code",
   "execution_count": 9,
   "metadata": {
    "colab": {},
    "colab_type": "code",
    "id": "tDNCq5Xozm0j"
   },
   "outputs": [],
   "source": [
    "def on_click_classify(change):\n",
    "    img = PILImage.create(btn_upload.data[-1])\n",
    "    out_pl.clear_output()\n",
    "    with out_pl: display(img.to_thumb(128,128))\n",
    "    pred,pred_idx,probs = learn_inf.predict(img)\n",
    "    lbl_pred.value = f'Prediction: {pred}; Probability: {probs[pred_idx]:.04f}'\n",
    "\n",
    "btn_run.on_click(on_click_classify)"
   ]
  },
  {
   "cell_type": "code",
   "execution_count": 10,
   "metadata": {
    "colab": {
     "base_uri": "https://localhost:8080/",
     "height": 217,
     "referenced_widgets": [
      "6ee20214cbfb4f9394db439c2ac75b53",
      "cc39a1adc5054dfb9adb643910bcdd90",
      "79a28d9a5c1148848f71d2b0a1b97842",
      "b787709544224f979d35bb62cffb032a",
      "c7af3ca359f24a2c9c248609448e6498",
      "e2940dd90f9a4ff2ac82011607194761",
      "e373353b24ce463ea8781f779ecd3856",
      "48ea92eb0926425d8c67facaad47ddc1",
      "a08b29ee8a0e455a85fc7f981309918d",
      "0bacfa0fa07e4211a4637f39d626e5a9",
      "bc5b941a89b14f82b3f153c0a400bc35",
      "e66f1b72d1274f719006e2246acd3c06",
      "3dc5095a502c48d789e24fab9c6b741f",
      "874836e50d6143b5a45a494c3faa92f1",
      "5e4bb1713b69463b9ca56c6918c4355e",
      "49bb3f2cc2c4417baa195112d7cbb5a3"
     ]
    },
    "colab_type": "code",
    "id": "2-pYYkK1zm3M",
    "outputId": "6a9b49ec-bd9e-4836-a66b-79b7bb043be8"
   },
   "outputs": [
    {
     "data": {
      "application/vnd.jupyter.widget-view+json": {
       "model_id": "a2e67ac5d7fa426daebe481b254b56a1",
       "version_major": 2,
       "version_minor": 0
      },
      "text/plain": [
       "VBox(children=(Label(value='熊熊辨識器！請上傳熊的照片。'), FileUpload(value={}, description='Upload'), Button(description='…"
      ]
     },
     "metadata": {},
     "output_type": "display_data"
    }
   ],
   "source": [
    "VBox([widgets.Label('熊熊辨識器！請上傳熊的照片。'), \n",
    "      btn_upload, btn_run, out_pl, lbl_pred])"
   ]
  },
  {
   "cell_type": "code",
   "execution_count": null,
   "metadata": {
    "colab": {},
    "colab_type": "code",
    "id": "-NVmfqLM1kHK"
   },
   "outputs": [],
   "source": []
  }
 ],
 "metadata": {
  "colab": {
   "name": "BearClassifier.ipynb",
   "provenance": []
  },
  "kernelspec": {
   "display_name": "Python 3",
   "language": "python",
   "name": "python3"
  },
  "language_info": {
   "codemirror_mode": {
    "name": "ipython",
    "version": 3
   },
   "file_extension": ".py",
   "mimetype": "text/x-python",
   "name": "python",
   "nbconvert_exporter": "python",
   "pygments_lexer": "ipython3",
   "version": "3.7.6"
  },
  "toc": {
   "base_numbering": 1,
   "nav_menu": {},
   "number_sections": true,
   "sideBar": true,
   "skip_h1_title": false,
   "title_cell": "Table of Contents",
   "title_sidebar": "Contents",
   "toc_cell": false,
   "toc_position": {},
   "toc_section_display": true,
   "toc_window_display": false
  },
  "widgets": {
   "application/vnd.jupyter.widget-state+json": {
    "0bacfa0fa07e4211a4637f39d626e5a9": {
     "model_module": "@jupyter-widgets/controls",
     "model_name": "ButtonStyleModel",
     "state": {
      "_model_module": "@jupyter-widgets/controls",
      "_model_module_version": "1.5.0",
      "_model_name": "ButtonStyleModel",
      "_view_count": null,
      "_view_module": "@jupyter-widgets/base",
      "_view_module_version": "1.2.0",
      "_view_name": "StyleView",
      "button_color": null,
      "font_weight": ""
     }
    },
    "3dc5095a502c48d789e24fab9c6b741f": {
     "model_module": "@jupyter-widgets/base",
     "model_name": "LayoutModel",
     "state": {
      "_model_module": "@jupyter-widgets/base",
      "_model_module_version": "1.2.0",
      "_model_name": "LayoutModel",
      "_view_count": null,
      "_view_module": "@jupyter-widgets/base",
      "_view_module_version": "1.2.0",
      "_view_name": "LayoutView",
      "align_content": null,
      "align_items": null,
      "align_self": null,
      "border": null,
      "bottom": null,
      "display": null,
      "flex": null,
      "flex_flow": null,
      "grid_area": null,
      "grid_auto_columns": null,
      "grid_auto_flow": null,
      "grid_auto_rows": null,
      "grid_column": null,
      "grid_gap": null,
      "grid_row": null,
      "grid_template_areas": null,
      "grid_template_columns": null,
      "grid_template_rows": null,
      "height": null,
      "justify_content": null,
      "justify_items": null,
      "left": null,
      "margin": null,
      "max_height": null,
      "max_width": null,
      "min_height": null,
      "min_width": null,
      "object_fit": null,
      "object_position": null,
      "order": null,
      "overflow": null,
      "overflow_x": null,
      "overflow_y": null,
      "padding": null,
      "right": null,
      "top": null,
      "visibility": null,
      "width": null
     }
    },
    "48ea92eb0926425d8c67facaad47ddc1": {
     "model_module": "@jupyter-widgets/controls",
     "model_name": "DescriptionStyleModel",
     "state": {
      "_model_module": "@jupyter-widgets/controls",
      "_model_module_version": "1.5.0",
      "_model_name": "DescriptionStyleModel",
      "_view_count": null,
      "_view_module": "@jupyter-widgets/base",
      "_view_module_version": "1.2.0",
      "_view_name": "StyleView",
      "description_width": ""
     }
    },
    "49bb3f2cc2c4417baa195112d7cbb5a3": {
     "model_module": "@jupyter-widgets/base",
     "model_name": "LayoutModel",
     "state": {
      "_model_module": "@jupyter-widgets/base",
      "_model_module_version": "1.2.0",
      "_model_name": "LayoutModel",
      "_view_count": null,
      "_view_module": "@jupyter-widgets/base",
      "_view_module_version": "1.2.0",
      "_view_name": "LayoutView",
      "align_content": null,
      "align_items": null,
      "align_self": null,
      "border": null,
      "bottom": null,
      "display": null,
      "flex": null,
      "flex_flow": null,
      "grid_area": null,
      "grid_auto_columns": null,
      "grid_auto_flow": null,
      "grid_auto_rows": null,
      "grid_column": null,
      "grid_gap": null,
      "grid_row": null,
      "grid_template_areas": null,
      "grid_template_columns": null,
      "grid_template_rows": null,
      "height": null,
      "justify_content": null,
      "justify_items": null,
      "left": null,
      "margin": null,
      "max_height": null,
      "max_width": null,
      "min_height": null,
      "min_width": null,
      "object_fit": null,
      "object_position": null,
      "order": null,
      "overflow": null,
      "overflow_x": null,
      "overflow_y": null,
      "padding": null,
      "right": null,
      "top": null,
      "visibility": null,
      "width": null
     }
    },
    "5e4bb1713b69463b9ca56c6918c4355e": {
     "model_module": "@jupyter-widgets/base",
     "model_name": "LayoutModel",
     "state": {
      "_model_module": "@jupyter-widgets/base",
      "_model_module_version": "1.2.0",
      "_model_name": "LayoutModel",
      "_view_count": null,
      "_view_module": "@jupyter-widgets/base",
      "_view_module_version": "1.2.0",
      "_view_name": "LayoutView",
      "align_content": null,
      "align_items": null,
      "align_self": null,
      "border": null,
      "bottom": null,
      "display": null,
      "flex": null,
      "flex_flow": null,
      "grid_area": null,
      "grid_auto_columns": null,
      "grid_auto_flow": null,
      "grid_auto_rows": null,
      "grid_column": null,
      "grid_gap": null,
      "grid_row": null,
      "grid_template_areas": null,
      "grid_template_columns": null,
      "grid_template_rows": null,
      "height": null,
      "justify_content": null,
      "justify_items": null,
      "left": null,
      "margin": null,
      "max_height": null,
      "max_width": null,
      "min_height": null,
      "min_width": null,
      "object_fit": null,
      "object_position": null,
      "order": null,
      "overflow": null,
      "overflow_x": null,
      "overflow_y": null,
      "padding": null,
      "right": null,
      "top": null,
      "visibility": null,
      "width": null
     }
    },
    "6ee20214cbfb4f9394db439c2ac75b53": {
     "model_module": "@jupyter-widgets/controls",
     "model_name": "VBoxModel",
     "state": {
      "_dom_classes": [],
      "_model_module": "@jupyter-widgets/controls",
      "_model_module_version": "1.5.0",
      "_model_name": "VBoxModel",
      "_view_count": null,
      "_view_module": "@jupyter-widgets/controls",
      "_view_module_version": "1.5.0",
      "_view_name": "VBoxView",
      "box_style": "",
      "children": [
       "IPY_MODEL_79a28d9a5c1148848f71d2b0a1b97842",
       "IPY_MODEL_b787709544224f979d35bb62cffb032a",
       "IPY_MODEL_c7af3ca359f24a2c9c248609448e6498",
       "IPY_MODEL_e2940dd90f9a4ff2ac82011607194761",
       "IPY_MODEL_e373353b24ce463ea8781f779ecd3856"
      ],
      "layout": "IPY_MODEL_cc39a1adc5054dfb9adb643910bcdd90"
     }
    },
    "79a28d9a5c1148848f71d2b0a1b97842": {
     "model_module": "@jupyter-widgets/controls",
     "model_name": "LabelModel",
     "state": {
      "_dom_classes": [],
      "_model_module": "@jupyter-widgets/controls",
      "_model_module_version": "1.5.0",
      "_model_name": "LabelModel",
      "_view_count": null,
      "_view_module": "@jupyter-widgets/controls",
      "_view_module_version": "1.5.0",
      "_view_name": "LabelView",
      "description": "",
      "description_tooltip": null,
      "layout": "IPY_MODEL_a08b29ee8a0e455a85fc7f981309918d",
      "placeholder": "​",
      "style": "IPY_MODEL_48ea92eb0926425d8c67facaad47ddc1",
      "value": "Select your bear!"
     }
    },
    "874836e50d6143b5a45a494c3faa92f1": {
     "model_module": "@jupyter-widgets/controls",
     "model_name": "DescriptionStyleModel",
     "state": {
      "_model_module": "@jupyter-widgets/controls",
      "_model_module_version": "1.5.0",
      "_model_name": "DescriptionStyleModel",
      "_view_count": null,
      "_view_module": "@jupyter-widgets/base",
      "_view_module_version": "1.2.0",
      "_view_name": "StyleView",
      "description_width": ""
     }
    },
    "a08b29ee8a0e455a85fc7f981309918d": {
     "model_module": "@jupyter-widgets/base",
     "model_name": "LayoutModel",
     "state": {
      "_model_module": "@jupyter-widgets/base",
      "_model_module_version": "1.2.0",
      "_model_name": "LayoutModel",
      "_view_count": null,
      "_view_module": "@jupyter-widgets/base",
      "_view_module_version": "1.2.0",
      "_view_name": "LayoutView",
      "align_content": null,
      "align_items": null,
      "align_self": null,
      "border": null,
      "bottom": null,
      "display": null,
      "flex": null,
      "flex_flow": null,
      "grid_area": null,
      "grid_auto_columns": null,
      "grid_auto_flow": null,
      "grid_auto_rows": null,
      "grid_column": null,
      "grid_gap": null,
      "grid_row": null,
      "grid_template_areas": null,
      "grid_template_columns": null,
      "grid_template_rows": null,
      "height": null,
      "justify_content": null,
      "justify_items": null,
      "left": null,
      "margin": null,
      "max_height": null,
      "max_width": null,
      "min_height": null,
      "min_width": null,
      "object_fit": null,
      "object_position": null,
      "order": null,
      "overflow": null,
      "overflow_x": null,
      "overflow_y": null,
      "padding": null,
      "right": null,
      "top": null,
      "visibility": null,
      "width": null
     }
    },
    "b787709544224f979d35bb62cffb032a": {
     "model_module": "@jupyter-widgets/controls",
     "model_name": "FileUploadModel",
     "state": {
      "_counter": 1,
      "_dom_classes": [],
      "_model_module": "@jupyter-widgets/controls",
      "_model_module_version": "1.5.0",
      "_model_name": "FileUploadModel",
      "_view_count": null,
      "_view_module": "@jupyter-widgets/controls",
      "_view_module_version": "1.5.0",
      "_view_name": "FileUploadView",
      "accept": "",
      "button_style": "",
      "data": [
       null
      ],
      "description": "Upload",
      "description_tooltip": null,
      "disabled": false,
      "error": "",
      "icon": "upload",
      "layout": "IPY_MODEL_bc5b941a89b14f82b3f153c0a400bc35",
      "metadata": [
       {
        "lastModified": 1598341500615,
        "name": "下載.jpeg",
        "size": 8571,
        "type": "image/jpeg"
       }
      ],
      "multiple": false,
      "style": "IPY_MODEL_0bacfa0fa07e4211a4637f39d626e5a9"
     }
    },
    "bc5b941a89b14f82b3f153c0a400bc35": {
     "model_module": "@jupyter-widgets/base",
     "model_name": "LayoutModel",
     "state": {
      "_model_module": "@jupyter-widgets/base",
      "_model_module_version": "1.2.0",
      "_model_name": "LayoutModel",
      "_view_count": null,
      "_view_module": "@jupyter-widgets/base",
      "_view_module_version": "1.2.0",
      "_view_name": "LayoutView",
      "align_content": null,
      "align_items": null,
      "align_self": null,
      "border": null,
      "bottom": null,
      "display": null,
      "flex": null,
      "flex_flow": null,
      "grid_area": null,
      "grid_auto_columns": null,
      "grid_auto_flow": null,
      "grid_auto_rows": null,
      "grid_column": null,
      "grid_gap": null,
      "grid_row": null,
      "grid_template_areas": null,
      "grid_template_columns": null,
      "grid_template_rows": null,
      "height": null,
      "justify_content": null,
      "justify_items": null,
      "left": null,
      "margin": null,
      "max_height": null,
      "max_width": null,
      "min_height": null,
      "min_width": null,
      "object_fit": null,
      "object_position": null,
      "order": null,
      "overflow": null,
      "overflow_x": null,
      "overflow_y": null,
      "padding": null,
      "right": null,
      "top": null,
      "visibility": null,
      "width": null
     }
    },
    "c7af3ca359f24a2c9c248609448e6498": {
     "model_module": "@jupyter-widgets/controls",
     "model_name": "ButtonModel",
     "state": {
      "_dom_classes": [],
      "_model_module": "@jupyter-widgets/controls",
      "_model_module_version": "1.5.0",
      "_model_name": "ButtonModel",
      "_view_count": null,
      "_view_module": "@jupyter-widgets/controls",
      "_view_module_version": "1.5.0",
      "_view_name": "ButtonView",
      "button_style": "",
      "description": "Classify",
      "disabled": false,
      "icon": "",
      "layout": "IPY_MODEL_3dc5095a502c48d789e24fab9c6b741f",
      "style": "IPY_MODEL_e66f1b72d1274f719006e2246acd3c06",
      "tooltip": ""
     }
    },
    "cc39a1adc5054dfb9adb643910bcdd90": {
     "model_module": "@jupyter-widgets/base",
     "model_name": "LayoutModel",
     "state": {
      "_model_module": "@jupyter-widgets/base",
      "_model_module_version": "1.2.0",
      "_model_name": "LayoutModel",
      "_view_count": null,
      "_view_module": "@jupyter-widgets/base",
      "_view_module_version": "1.2.0",
      "_view_name": "LayoutView",
      "align_content": null,
      "align_items": null,
      "align_self": null,
      "border": null,
      "bottom": null,
      "display": null,
      "flex": null,
      "flex_flow": null,
      "grid_area": null,
      "grid_auto_columns": null,
      "grid_auto_flow": null,
      "grid_auto_rows": null,
      "grid_column": null,
      "grid_gap": null,
      "grid_row": null,
      "grid_template_areas": null,
      "grid_template_columns": null,
      "grid_template_rows": null,
      "height": null,
      "justify_content": null,
      "justify_items": null,
      "left": null,
      "margin": null,
      "max_height": null,
      "max_width": null,
      "min_height": null,
      "min_width": null,
      "object_fit": null,
      "object_position": null,
      "order": null,
      "overflow": null,
      "overflow_x": null,
      "overflow_y": null,
      "padding": null,
      "right": null,
      "top": null,
      "visibility": null,
      "width": null
     }
    },
    "e2940dd90f9a4ff2ac82011607194761": {
     "model_module": "@jupyter-widgets/output",
     "model_name": "OutputModel",
     "state": {
      "_dom_classes": [],
      "_model_module": "@jupyter-widgets/output",
      "_model_module_version": "1.0.0",
      "_model_name": "OutputModel",
      "_view_count": null,
      "_view_module": "@jupyter-widgets/output",
      "_view_module_version": "1.0.0",
      "_view_name": "OutputView",
      "layout": "IPY_MODEL_49bb3f2cc2c4417baa195112d7cbb5a3",
      "msg_id": "",
      "outputs": [
       {
        "image/png": "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\n",
        "metadata": {
         "tags": []
        },
        "output_type": "display_data",
        "text/plain": "<PIL.Image.Image image mode=RGB size=128x72 at 0x7F514365BDD8>"
       }
      ]
     }
    },
    "e373353b24ce463ea8781f779ecd3856": {
     "model_module": "@jupyter-widgets/controls",
     "model_name": "LabelModel",
     "state": {
      "_dom_classes": [],
      "_model_module": "@jupyter-widgets/controls",
      "_model_module_version": "1.5.0",
      "_model_name": "LabelModel",
      "_view_count": null,
      "_view_module": "@jupyter-widgets/controls",
      "_view_module_version": "1.5.0",
      "_view_name": "LabelView",
      "description": "",
      "description_tooltip": null,
      "layout": "IPY_MODEL_5e4bb1713b69463b9ca56c6918c4355e",
      "placeholder": "​",
      "style": "IPY_MODEL_874836e50d6143b5a45a494c3faa92f1",
      "value": "Prediction: grizzly; Probability: 0.9254"
     }
    },
    "e66f1b72d1274f719006e2246acd3c06": {
     "model_module": "@jupyter-widgets/controls",
     "model_name": "ButtonStyleModel",
     "state": {
      "_model_module": "@jupyter-widgets/controls",
      "_model_module_version": "1.5.0",
      "_model_name": "ButtonStyleModel",
      "_view_count": null,
      "_view_module": "@jupyter-widgets/base",
      "_view_module_version": "1.2.0",
      "_view_name": "StyleView",
      "button_color": null,
      "font_weight": ""
     }
    }
   }
  }
 },
 "nbformat": 4,
 "nbformat_minor": 1
}
